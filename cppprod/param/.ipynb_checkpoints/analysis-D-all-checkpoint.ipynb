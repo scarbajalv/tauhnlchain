{
 "cells": [
  {
   "cell_type": "code",
   "execution_count": 2,
   "metadata": {},
   "outputs": [],
   "source": [
    "%matplotlib inline\n",
    "import ROOT\n",
    "import numpy as np\n",
    "import matplotlib.pyplot as plt\n",
    "import pylab\n",
    "import scipy.integrate\n",
    "from numpy import exp, linspace, random\n",
    "from scipy.optimize import curve_fit\n",
    "#plt.style.use('seaborn-pastel')\n",
    "#plt.style.use('classic')"
   ]
  },
  {
   "cell_type": "code",
   "execution_count": 3,
   "metadata": {},
   "outputs": [],
   "source": [
    "ifile = ROOT.TFile.Open(\"combined.root\",\"READ\")\n",
    "tree = ifile.Get(\"Data\")\n",
    "\n",
    "factor = 2/15.3034\n",
    "x431 = np.array([])\n",
    "pt2431 = np.array([])\n",
    "x411 = np.array([])\n",
    "pt2411 = np.array([])\n",
    "x431bar = np.array([])\n",
    "pt2431bar = np.array([])\n",
    "x411bar = np.array([])\n",
    "pt2411bar = np.array([])\n",
    "for i in range (0,tree.GetEntries()):\n",
    "    tree.GetEntry(i)\n",
    "    if getattr(tree,\"id\")==411:\n",
    "        x411 = np.append(x411,getattr(tree,\"pz\")*factor)\n",
    "        pt2411 = np.append(pt2411,pow(getattr(tree,\"pt\"),2))\n",
    "    if getattr(tree,\"id\")==431:\n",
    "        x431 = np.append(x431,getattr(tree,\"pz\")*factor)\n",
    "        pt2431 = np.append(pt2431,pow(getattr(tree,\"pt\"),2))\n",
    "    if getattr(tree,\"id\")==-411:\n",
    "        x411bar = np.append(x411bar,getattr(tree,\"pz\")*factor)\n",
    "        pt2411bar = np.append(pt2411bar,pow(getattr(tree,\"pt\"),2))\n",
    "    if getattr(tree,\"id\")==-431:\n",
    "        x431bar = np.append(x431bar,getattr(tree,\"pz\")*factor)\n",
    "        pt2431bar = np.append(pt2431bar,pow(getattr(tree,\"pt\"),2))"
   ]
  },
  {
   "cell_type": "code",
   "execution_count": 6,
   "metadata": {},
   "outputs": [
    {
     "data": {
      "image/png": "[encoded data removed]",
      "text/plain": [
       "<Figure size 432x288 with 1 Axes>"
      ]
     },
     "metadata": {
      "needs_background": "light"
     },
     "output_type": "display_data"
    },
    {
     "name": "stdout",
     "output_type": "stream",
     "text": [
      "a-411 best_vals:[15.18018894]\n",
      "a-431 best_vals:[16.64639477]\n",
      "a-411bar best_vals:[13.11985969]\n",
      "a-431bar best_vals:[15.05385909]\n"
     ]
    }
   ],
   "source": [
    "nbins= 40\n",
    "plt.hist(x411, bins=nbins, histtype=\"step\", density=True, label='411')\n",
    "plt.hist(x431, bins=nbins, histtype=\"step\", density=True, label='431')\n",
    "plt.hist(x411bar, bins=nbins, histtype=\"step\", density=True, label='-411')\n",
    "plt.hist(x431bar, bins=nbins, histtype=\"step\", density=True, label='-431')\n",
    "n = 6.1\n",
    "sigma = lambda x: ((n+1)/2)*pow(1-abs(x),n)\n",
    "x = np.arange(-1,1,0.01)\n",
    "plt.plot(x,sigma(x))\n",
    "a = 14\n",
    "gauss1 = lambda x: np.sqrt(a/np.pi)*np.exp(-a*x*x)\n",
    "#plt.plot(x,gauss1(x))\n",
    "#plt.yscale(\"log\")\n",
    "#plt.xscale(\"log\")\n",
    "plt.title('x')\n",
    "plt.legend(loc=\"upper right\")\n",
    "plt.savefig(\"01.png\")\n",
    "plt.show()\n",
    "\n",
    "#definir funcion gausseana\n",
    "def gaussian(x, expo):\n",
    "    return np.sqrt(expo/np.pi) * exp(-expo*(x)**2)\n",
    "\n",
    "#ajustar data\n",
    "idata = x411\n",
    "hist, bins = np.histogram(idata, bins = 40)\n",
    "x = (bins[:-1]+bins[1:])/2\n",
    "y = hist/(bins[1]-bins[0])/len(idata)\n",
    "init_vals = 1  # for [amp, cen, wid]\n",
    "best_vals, covar = curve_fit(gaussian, x, y, p0=init_vals)\n",
    "#imprimir fit\n",
    "print('a-411 best_vals:'+format(best_vals))\n",
    "#plotear data+ajuste\n",
    "#plt.plot(x,y)\n",
    "#plt.plot(x,gaussian(x, best_vals[0]))\n",
    "#plt.show()\n",
    "\n",
    "#ajustar data\n",
    "idata = x431\n",
    "hist, bins = np.histogram(idata, bins = 40)\n",
    "x = (bins[:-1]+bins[1:])/2\n",
    "y = hist/(bins[1]-bins[0])/len(idata)\n",
    "init_vals = 1  # for [amp, cen, wid]\n",
    "best_vals, covar = curve_fit(gaussian, x, y, p0=init_vals)\n",
    "#imprimir fit\n",
    "print('a-431 best_vals:'+format(best_vals))\n",
    "#plotear data+ajuste\n",
    "#plt.plot(x,y)\n",
    "#plt.plot(x,gaussian(x, best_vals[0]))\n",
    "#plt.savefig(\"a431.png\")\n",
    "#plt.show()\n",
    "\n",
    "#ajustar data\n",
    "idata = x411bar\n",
    "hist, bins = np.histogram(idata, bins = 40)\n",
    "x = (bins[:-1]+bins[1:])/2\n",
    "y = hist/(bins[1]-bins[0])/len(idata)\n",
    "init_vals = 1  # for [amp, cen, wid]\n",
    "best_vals, covar = curve_fit(gaussian, x, y, p0=init_vals)\n",
    "#imprimir fit\n",
    "print('a-411bar best_vals:'+format(best_vals))\n",
    "#plotear data+ajuste\n",
    "#plt.plot(x,y)\n",
    "#plt.plot(x,gaussian(x, best_vals[0]))\n",
    "#plt.show()\n",
    "\n",
    "#ajustar data\n",
    "idata = x431bar\n",
    "hist, bins = np.histogram(idata, bins = 40)\n",
    "x = (bins[:-1]+bins[1:])/2\n",
    "y = hist/(bins[1]-bins[0])/len(idata)\n",
    "init_vals = 1  # for [amp, cen, wid]\n",
    "best_vals, covar = curve_fit(gaussian, x, y, p0=init_vals)\n",
    "#imprimir fit\n",
    "print('a-431bar best_vals:'+format(best_vals))\n",
    "#plotear data+ajuste\n",
    "#plt.plot(x,y)\n",
    "#plt.plot(x,gaussian(x, best_vals[0]))\n",
    "#plt.show()"
   ]
  },
  {
   "cell_type": "code",
   "execution_count": 7,
   "metadata": {},
   "outputs": [
    {
     "data": {
      "image/png": "[encoded data removed]",
      "text/plain": [
       "<Figure size 432x288 with 1 Axes>"
      ]
     },
     "metadata": {
      "needs_background": "light"
     },
     "output_type": "display_data"
    },
    {
     "name": "stdout",
     "output_type": "stream",
     "text": [
      "b-411 best_vals:[0.72086065]\n",
      "b-431 best_vals:[0.63308208]\n",
      "b-411bar best_vals:[0.92845787]\n",
      "b-431bar best_vals:[0.79764707]\n"
     ]
    }
   ],
   "source": [
    "plt.hist(pt2411, bins=nbins, histtype=\"step\", density=True, label='411')\n",
    "plt.hist(pt2431, bins=nbins, histtype=\"step\", density=True, label='431')\n",
    "plt.hist(pt2411bar, bins=nbins, histtype=\"step\", density=True, label='-411')\n",
    "plt.hist(pt2431bar, bins=nbins, histtype=\"step\", density=True, label='-431')\n",
    "b=1.08\n",
    "sigma2 = lambda x: b*np.exp(-b*x)\n",
    "x2 = np.arange(0,20,0.01)\n",
    "plt.plot(x2,sigma2(x2))\n",
    "#plt.xscale(\"log\")\n",
    "#plt.yscale(\"log\")\n",
    "plt.title('pt2')\n",
    "plt.legend(loc=\"upper right\")\n",
    "plt.savefig(\"02.png\")\n",
    "plt.show()\n",
    "\n",
    "#definir funcion exponencial\n",
    "def expo1(x, expo):\n",
    "    return expo * exp(-expo*x)\n",
    "\n",
    "#ajustar data\n",
    "idata = pt2411\n",
    "hist, bins = np.histogram(idata, bins = 40)\n",
    "x = (bins[:-1]+bins[1:])/2\n",
    "y = hist/(bins[1]-bins[0])/len(idata)\n",
    "init_vals = 1  # for [amp, cen, wid]\n",
    "best_vals, covar = curve_fit(expo1, x, y, p0=init_vals)\n",
    "#imprimir fit\n",
    "print('b-411 best_vals:'+format(best_vals))\n",
    "#plotear data+ajuste\n",
    "#plt.plot(x,y)\n",
    "#plt.plot(x,expo1(x, best_vals[0]))\n",
    "#plt.show()\n",
    "\n",
    "#ajustar data\n",
    "idata = pt2431\n",
    "hist, bins = np.histogram(idata, bins = 40)\n",
    "x = (bins[:-1]+bins[1:])/2\n",
    "y = hist/(bins[1]-bins[0])/len(idata)\n",
    "init_vals = 1  # for [amp, cen, wid]\n",
    "best_vals, covar = curve_fit(expo1, x, y, p0=init_vals)\n",
    "#imprimir fit\n",
    "print('b-431 best_vals:'+format(best_vals))\n",
    "#plotear data+ajuste\n",
    "#plt.plot(x,y)\n",
    "#plt.plot(x,expo1(x, best_vals[0]))\n",
    "#plt.savefig(\"b431.png\")\n",
    "#plt.show()\n",
    "\n",
    "#ajustar data\n",
    "idata = pt2411bar\n",
    "hist, bins = np.histogram(idata, bins = 40)\n",
    "x = (bins[:-1]+bins[1:])/2\n",
    "y = hist/(bins[1]-bins[0])/len(idata)\n",
    "init_vals = 1  # for [amp, cen, wid]\n",
    "best_vals, covar = curve_fit(expo1, x, y, p0=init_vals)\n",
    "#imprimir fit\n",
    "print('b-411bar best_vals:'+format(best_vals))\n",
    "#plotear data+ajuste\n",
    "#plt.plot(x,y)\n",
    "#plt.plot(x,expo1(x, best_vals[0]))\n",
    "#plt.show()\n",
    "\n",
    "#ajustar data\n",
    "idata = pt2431bar\n",
    "hist, bins = np.histogram(idata, bins = 40)\n",
    "x = (bins[:-1]+bins[1:])/2\n",
    "y = hist/(bins[1]-bins[0])/len(idata)\n",
    "init_vals = 1  # for [amp, cen, wid]\n",
    "best_vals, covar = curve_fit(expo1, x, y, p0=init_vals)\n",
    "#imprimir fit\n",
    "print('b-431bar best_vals:'+format(best_vals))\n",
    "#plotear data+ajuste\n",
    "#plt.yscale(\"log\")\n",
    "#plt.plot(x,y)\n",
    "#plt.plot(x,expo1(x, best_vals[0]))\n",
    "#plt.show()"
   ]
  },
  {
   "cell_type": "code",
   "execution_count": 5,
   "metadata": {},
   "outputs": [
    {
     "data": {
      "image/png": "[encoded data removed]",
      "text/plain": [
       "<Figure size 432x288 with 2 Axes>"
      ]
     },
     "metadata": {
      "needs_background": "light"
     },
     "output_type": "display_data"
    }
   ],
   "source": [
    "%matplotlib inline\n",
    "import numpy as np\n",
    "import seaborn as sns\n",
    "import matplotlib.pylab as plt\n",
    "\n",
    "uniform_data = np.random.rand(10, 12)\n",
    "ax = sns.heatmap(uniform_data, linewidth=0)\n",
    "plt.show()"
   ]
  },
  {
   "cell_type": "code",
   "execution_count": null,
   "metadata": {},
   "outputs": [],
   "source": [
    "import numpy as np\n",
    "import matplotlib\n",
    "import matplotlib.pyplot as plt\n",
    "\n",
    "# Define numbers of generated data points and bins per axis.\n",
    "N_bins = 100\n",
    "\n",
    "x = x411\n",
    "y = pt2411\n",
    "\n",
    "\n",
    "# Construct 2D histogram from data using the 'plasma' colormap\n",
    "plt.hist2d(x, y, bins=N_bins, normed=True, cmap='plasma',range=[[-0.6,0.6],[0,10]])\n",
    "\n",
    "# Plot a colorbar with label.\n",
    "cb = plt.colorbar()\n",
    "cb.set_label('Number of entries')\n",
    "\n",
    "# Add title and labels to plot.\n",
    "plt.title('Heatmap of 2D normally distributed data points')\n",
    "plt.xlabel('x ')\n",
    "plt.ylabel('pt2')\n",
    "\n",
    "# Show the plot.\n",
    "plt.show()\n",
    "plt.imshow()"
   ]
  },
  {
   "cell_type": "code",
   "execution_count": null,
   "metadata": {},
   "outputs": [],
   "source": [
    "z = np.array([x,y])\n",
    "print x\n",
    "z.shape"
   ]
  },
  {
   "cell_type": "code",
   "execution_count": null,
   "metadata": {},
   "outputs": [],
   "source": [
    "import matplotlib.pyplot as plt\n",
    "import numpy as np\n",
    "\n",
    "plt.imshow(z, cmap='hot', interpolation='bilinear')\n",
    "plt.show()"
   ]
  },
  {
   "cell_type": "code",
   "execution_count": null,
   "metadata": {},
   "outputs": [],
   "source": [
    "import matplotlib.pyplot as plt\n",
    "import numpy as np\n",
    "\n",
    "a = np.random.random((5, 5))\n",
    "print a\n",
    "print a.shape\n",
    "\n",
    "plt.imshow(a, cmap='hot', interpolation='bilinear')\n",
    "plt.show()"
   ]
  },
  {
   "cell_type": "code",
   "execution_count": null,
   "metadata": {},
   "outputs": [],
   "source": [
    "from matplotlib.image import NonUniformImage\n",
    "import matplotlib.pyplot as plt\n",
    "\n",
    "xedges = [0, 1, 3, 5]\n",
    "yedges = [0, 2, 3, 4, 6]\n",
    "\n",
    "H, xedges, yedges = np.histogram2d(x, y, bins=(xedges, yedges))\n",
    "H = H.T  # Let each row list bins with common y range.\n",
    "fig = plt.figure(figsize=(7, 3))\n",
    "ax = fig.add_subplot(133, title='NonUniformImage: interpolated', aspect='equal', xlim=xedges[[0, -1]], ylim=yedges[[0, -1]])\n",
    "im = NonUniformImage(ax, interpolation='bilinear')\n",
    "xcenters = (xedges[:-1] + xedges[1:]) / 2\n",
    "ycenters = (yedges[:-1] + yedges[1:]) / 2\n",
    "im.set_data(xcenters, ycenters, H)\n",
    "im.plt()\n",
    "#ax.images.append(im)\n",
    "plt.show()"
   ]
  },
  {
   "cell_type": "code",
   "execution_count": null,
   "metadata": {},
   "outputs": [],
   "source": []
  },
  {
   "cell_type": "code",
   "execution_count": null,
   "metadata": {},
   "outputs": [],
   "source": []
  },
  {
   "cell_type": "code",
   "execution_count": null,
   "metadata": {},
   "outputs": [],
   "source": [
    "#https://matplotlib.org/3.1.3/gallery/images_contours_and_fields/image_nonuniform.html\n",
    "\n",
    "import numpy as np\n",
    "import matplotlib.pyplot as plt\n",
    "from matplotlib.image import NonUniformImage\n",
    "from matplotlib import cm\n",
    "\n",
    "interp = 'nearest'\n",
    "\n",
    "# Linear x array for cell centers:\n",
    "x = np.linspace(-4, 4, 9)\n",
    "\n",
    "# Highly nonlinear x array:\n",
    "x2 = x**3\n",
    "\n",
    "y = np.linspace(-4, 4, 9)\n",
    "\n",
    "z = np.sqrt(x[np.newaxis, :]**2 + y[:, np.newaxis]**2)\n",
    "\n",
    "fig, axs = plt.subplots(nrows=2, ncols=2, constrained_layout=True)\n",
    "fig.suptitle('NonUniformImage class', fontsize='large')\n",
    "ax = axs[0, 0]\n",
    "im = NonUniformImage(ax, interpolation=interp, extent=(-4, 4, -4, 4),\n",
    "                     cmap=cm.Purples)\n",
    "im.set_data(x, y, z)\n",
    "\n",
    "interp = 'bilinear'\n",
    "\n",
    "ax = axs[0, 0]\n",
    "im = NonUniformImage(ax, interpolation=interp, extent=(-4, 4, -4, 4),\n",
    "                     cmap=cm.Purples)\n",
    "im.set_data(x, y, z)\n",
    "ax.images.append(im)\n",
    "ax.set_xlim(-4, 4)\n",
    "ax.set_ylim(-4, 4)\n",
    "ax.set_title(interp)\n",
    "\n",
    "\n",
    "\n",
    "plt.show()"
   ]
  }
 ],
 "metadata": {
  "kernelspec": {
   "display_name": "Python 3",
   "language": "python",
   "name": "python3"
  },
  "language_info": {
   "codemirror_mode": {
    "name": "ipython",
    "version": 2
   },
   "file_extension": ".py",
   "mimetype": "text/x-python",
   "name": "python",
   "nbconvert_exporter": "python",
   "pygments_lexer": "ipython2",
   "version": "2.7.17"
  }
 },
 "nbformat": 4,
 "nbformat_minor": 2
}
